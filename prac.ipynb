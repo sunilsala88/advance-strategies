{
 "cells": [
  {
   "cell_type": "code",
   "execution_count": null,
   "metadata": {},
   "outputs": [],
   "source": []
  },
  {
   "cell_type": "code",
   "execution_count": 10,
   "metadata": {},
   "outputs": [],
   "source": [
    "renko_param = {}\n",
    "renko_param['TSLA'] = {\"brick_size\":5,\"upper_limit\":None, \"lower_limit\":None,\"brick\":0}"
   ]
  },
  {
   "cell_type": "code",
   "execution_count": 11,
   "metadata": {},
   "outputs": [],
   "source": [
    "\n",
    "\n",
    "def renkoOperation(ticker,last_price): \n",
    "    global renko_param           \n",
    "    if renko_param[ticker][\"upper_limit\"] == None:\n",
    "        renko_param[ticker][\"upper_limit\"] = float(last_price) + renko_param[ticker][\"brick_size\"]\n",
    "        renko_param[ticker][\"lower_limit\"] = float(last_price) - renko_param[ticker][\"brick_size\"]\n",
    "    if float(last_price) > renko_param[ticker][\"upper_limit\"]:\n",
    "        gap = (float(last_price - renko_param[ticker][\"upper_limit\"]))//renko_param[ticker][\"brick_size\"]\n",
    "        renko_param[ticker][\"lower_limit\"] = renko_param[ticker][\"upper_limit\"] + (gap*renko_param[ticker][\"brick_size\"]) - renko_param[ticker][\"brick_size\"]\n",
    "        renko_param[ticker][\"upper_limit\"] = renko_param[ticker][\"upper_limit\"] + ((1+gap)*renko_param[ticker][\"brick_size\"])\n",
    "        renko_param[ticker][\"brick\"] = max(1,renko_param[ticker][\"brick\"]+(1+gap))\n",
    "    if float(last_price) < renko_param[ticker][\"lower_limit\"]:\n",
    "        gap = (renko_param[ticker][\"lower_limit\"] - float(last_price))//renko_param[ticker][\"brick_size\"]\n",
    "        renko_param[ticker][\"upper_limit\"] = renko_param[ticker][\"lower_limit\"] - (gap*renko_param[ticker][\"brick_size\"]) + renko_param[ticker][\"brick_size\"]\n",
    "        renko_param[ticker][\"lower_limit\"] = renko_param[ticker][\"lower_limit\"] - ((1+gap)*renko_param[ticker][\"brick_size\"])\n",
    "        renko_param[ticker][\"brick\"] = min(-1,renko_param[ticker][\"brick\"]-(1+gap))\n",
    "    print(f\"{ticker}: brick number = {renko_param[ticker]['brick']},last price ={last_price}, upper bound ={renko_param[ticker]['upper_limit']}, lower bound ={renko_param[ticker]['lower_limit']}\")\n",
    "\n"
   ]
  },
  {
   "cell_type": "code",
   "execution_count": 17,
   "metadata": {},
   "outputs": [
    {
     "name": "stdout",
     "output_type": "stream",
     "text": [
      "TSLA: brick number = -3.0,last price =84, upper bound =90.0, lower bound =80.0\n"
     ]
    }
   ],
   "source": [
    "renkoOperation('TSLA',84)"
   ]
  }
 ],
 "metadata": {
  "kernelspec": {
   "display_name": "Python 3",
   "language": "python",
   "name": "python3"
  },
  "language_info": {
   "codemirror_mode": {
    "name": "ipython",
    "version": 3
   },
   "file_extension": ".py",
   "mimetype": "text/x-python",
   "name": "python",
   "nbconvert_exporter": "python",
   "pygments_lexer": "ipython3",
   "version": "3.12.2"
  }
 },
 "nbformat": 4,
 "nbformat_minor": 2
}
